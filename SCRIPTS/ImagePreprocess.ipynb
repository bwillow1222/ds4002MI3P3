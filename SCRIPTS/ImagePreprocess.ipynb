{
 "cells": [
  {
   "cell_type": "code",
   "execution_count": null,
   "id": "110396d9",
   "metadata": {},
   "outputs": [],
   "source": [
    "import os\n",
    "import shutil\n",
    "import re\n"
   ]
  },
  {
   "cell_type": "code",
   "execution_count": 4,
   "id": "352ebea9",
   "metadata": {},
   "outputs": [
    {
     "name": "stdout",
     "output_type": "stream",
     "text": [
      "Removed non-image file: Abyssinian_102.mat\n",
      "Removed non-image file: Abyssinian_100.mat\n",
      "Removed non-image file: Abyssinian_101.mat\n",
      "Images have been sorted by classification, and non-image files have been removed!\n"
     ]
    }
   ],
   "source": [
    "\n",
    "\n",
    "# Specify the main folder containing your images\n",
    "main_folder = '/Users/adamsnyder/Documents/DS 4002/pet_images'\n",
    "valid_extensions = {'.jpg', '.jpeg', '.png'}  # Set of allowed image file extensions\n",
    "\n",
    "# Loop over each file in the main folder\n",
    "for filename in os.listdir(main_folder):\n",
    "    # Check if the file has a valid extension\n",
    "    if not any(filename.lower().endswith(ext) for ext in valid_extensions):\n",
    "        # Remove files with invalid extensions\n",
    "        os.remove(os.path.join(main_folder, filename))\n",
    "        print(f\"Removed non-image file: {filename}\")\n",
    "        continue  # Skip to the next file if it's not an image\n",
    "\n",
    "    # Use regex to split filename before the first number\n",
    "    match = re.split(r'_\\d+', filename)\n",
    "    if match:\n",
    "        classification = match[0]  # This captures the classification part\n",
    "\n",
    "        # Create a folder for this classification if it doesn't exist\n",
    "        classification_folder = os.path.join(main_folder, classification)\n",
    "        os.makedirs(classification_folder, exist_ok=True)\n",
    "\n",
    "        # Move the file to the appropriate folder\n",
    "        source_path = os.path.join(main_folder, filename)\n",
    "        destination_path = os.path.join(classification_folder, filename)\n",
    "        shutil.move(source_path, destination_path)\n",
    "\n",
    "print(\"Images have been sorted by classification, and non-image files have been removed!\")\n"
   ]
  },
  {
   "cell_type": "code",
   "execution_count": null,
   "id": "8c5cb44a",
   "metadata": {},
   "outputs": [],
   "source": []
  }
 ],
 "metadata": {
  "kernelspec": {
   "display_name": "Python 3 (ipykernel)",
   "language": "python",
   "name": "python3"
  },
  "language_info": {
   "codemirror_mode": {
    "name": "ipython",
    "version": 3
   },
   "file_extension": ".py",
   "mimetype": "text/x-python",
   "name": "python",
   "nbconvert_exporter": "python",
   "pygments_lexer": "ipython3",
   "version": "3.9.13"
  }
 },
 "nbformat": 4,
 "nbformat_minor": 5
}
